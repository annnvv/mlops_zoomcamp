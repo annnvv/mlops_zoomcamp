{
 "cells": [
  {
   "cell_type": "markdown",
   "id": "d8bc4434-509b-48db-9457-a769df048e9c",
   "metadata": {},
   "source": [
    "## Homework #4\n",
    "Author: Anna Vasylytsya\n",
    "\n",
    "[Homework assignment prompt](https://github.com/DataTalksClub/mlops-zoomcamp/blob/main/04-deployment/homework.md)"
   ]
  },
  {
   "cell_type": "markdown",
   "id": "b4f48809-b520-408c-9eb9-9a0079ee88f4",
   "metadata": {},
   "source": [
    "## Question 1"
   ]
  },
  {
   "cell_type": "markdown",
   "id": "c1a96618-015e-4ab6-98d6-94965a0a0793",
   "metadata": {},
   "source": [
    "What's the mean predicted duration for this dataset?\n",
    "\n",
    "**Answer**: 16.19 (see starter.ipynb for calculation)"
   ]
  },
  {
   "cell_type": "markdown",
   "id": "6da0dc42-e50a-43d1-97b2-2d0d85629741",
   "metadata": {},
   "source": [
    "## Question 2"
   ]
  },
  {
   "cell_type": "code",
   "execution_count": 1,
   "id": "c5c31fc9-4c54-45d5-b653-0a38d7babc52",
   "metadata": {},
   "outputs": [
    {
     "name": "stdout",
     "output_type": "stream",
     "text": [
      "06/27/2022  03:27 AM        19,711,438 df_result.parquet\n"
     ]
    }
   ],
   "source": [
    "!dir \"*.parquet\" /s/a:-d|find \"/\""
   ]
  },
  {
   "cell_type": "markdown",
   "id": "d28b5b94-fffa-4fb1-8301-7a58a1247744",
   "metadata": {},
   "source": [
    "**Answer**: 19MB"
   ]
  },
  {
   "cell_type": "markdown",
   "id": "f0d72031-33b1-4374-9535-18f09561bfba",
   "metadata": {},
   "source": [
    "## Question 3"
   ]
  },
  {
   "cell_type": "code",
   "execution_count": 2,
   "id": "67e43df3-dea7-41ac-8d73-02eb58b5c01a",
   "metadata": {},
   "outputs": [
    {
     "name": "stderr",
     "output_type": "stream",
     "text": [
      "[NbConvertApp] Converting notebook starter.ipynb to script\n",
      "[NbConvertApp] Writing 1296 bytes to starter.py\n"
     ]
    }
   ],
   "source": [
    "!jupyter nbconvert --to script starter.ipynb"
   ]
  },
  {
   "cell_type": "markdown",
   "id": "7c606247-d9a0-4107-a6d9-74534ad7f958",
   "metadata": {},
   "source": [
    "**Answer**: jupyter nbconvert --to script starter.ipynb"
   ]
  },
  {
   "cell_type": "markdown",
   "id": "89495c5b-0701-4f38-97d7-60ea8374d620",
   "metadata": {},
   "source": [
    "## Question 4"
   ]
  },
  {
   "cell_type": "code",
   "execution_count": 19,
   "id": "dc8310f8-8453-49fd-bee9-9927771c95fa",
   "metadata": {},
   "outputs": [],
   "source": [
    "!pipenv --python 3.9.7"
   ]
  },
  {
   "cell_type": "code",
   "execution_count": 20,
   "id": "d0c7bfa0-e36b-4f9d-b12b-2125fa1e6bf9",
   "metadata": {},
   "outputs": [
    {
     "name": "stdout",
     "output_type": "stream",
     "text": [
      "Installing pandas...\n",
      "\n",
      "Installing scikit-learn==1.0.2...\n",
      "Installing dependencies from Pipfile.lock (4076db)...\n",
      "To activate this project's virtualenv, run pipenv shell.\n",
      "Alternatively, run a command inside the virtualenv with pipenv run.\n"
     ]
    },
    {
     "name": "stderr",
     "output_type": "stream",
     "text": [
      "\n",
      "[    ] Installing..\n",
      "[=   ] Installing pandas..\n",
      "[==  ] Installing pandas..\n",
      "[=== ] Installing pandas..\n",
      "[ ===] Installing pandas..\n",
      "[  ==] Installing pandas..\n",
      "[   =] Installing pandas..\n",
      "[    ] Installing pandas..\n",
      "[   =] Installing pandas..\n",
      "[  ==] Installing pandas..\n",
      "[ ===] Installing pandas..\n",
      "[====] Installing pandas..\n",
      "[=== ] Installing pandas..\n",
      "[==  ] Installing pandas..\n",
      "[=   ] Installing pandas..\n",
      "[    ] Installing pandas..\n",
      "[=   ] Installing pandas..\n",
      "[==  ] Installing pandas..\n",
      "[=== ] Installing pandas..\n",
      "[ ===] Installing pandas..\n",
      "[  ==] Installing pandas..\n",
      "[   =] Installing pandas..\n",
      "[    ] Installing pandas..\n",
      "[   =] Installing pandas..\n",
      "[  ==] Installing pandas..\n",
      "[ ===] Installing pandas..\n",
      "[====] Installing pandas..\n",
      "[=== ] Installing pandas..\n",
      "[==  ] Installing pandas..\n",
      "[=   ] Installing pandas..\n",
      "[    ] Installing pandas...\n",
      "Adding pandas to Pipfile's [packages]...\n",
      "\bInstallation Succeeded \n",
      "\n",
      "[    ] Installing..\n",
      "[=   ] Installing scikit-learn..\n",
      "[==  ] Installing scikit-learn..\n",
      "[=== ] Installing scikit-learn..\n",
      "[ ===] Installing scikit-learn..\n",
      "[  ==] Installing scikit-learn..\n",
      "[   =] Installing scikit-learn..\n",
      "[    ] Installing scikit-learn..\n",
      "[   =] Installing scikit-learn..\n",
      "[  ==] Installing scikit-learn..\n",
      "[ ===] Installing scikit-learn..\n",
      "[====] Installing scikit-learn..\n",
      "[=== ] Installing scikit-learn..\n",
      "[==  ] Installing scikit-learn..\n",
      "[=   ] Installing scikit-learn..\n",
      "[    ] Installing scikit-learn..\n",
      "[=   ] Installing scikit-learn..\n",
      "[==  ] Installing scikit-learn..\n",
      "[=== ] Installing scikit-learn..\n",
      "[ ===] Installing scikit-learn..\n",
      "[  ==] Installing scikit-learn...\n",
      "Adding scikit-learn to Pipfile's [packages]...\n",
      "\bInstallation Succeeded \n",
      "  ================================ 0/0 - 00:00:00\n",
      "\n"
     ]
    }
   ],
   "source": [
    "!pipenv install pandas scikit-learn==1.0.2 "
   ]
  },
  {
   "cell_type": "code",
   "execution_count": 21,
   "id": "a6abf739-c8ba-4d13-9964-8502357bebfa",
   "metadata": {},
   "outputs": [
    {
     "data": {
      "text/plain": [
       "'sha256:08ef968f6b72033c16c479c966bf37ccd49b06ea91b765e1cc27afefe723920b'"
      ]
     },
     "execution_count": 21,
     "metadata": {},
     "output_type": "execute_result"
    }
   ],
   "source": [
    "import json\n",
    "  \n",
    "# reading the data from the file\n",
    "with open('Pipfile.lock') as f:\n",
    "    data = f.read()\n",
    "# reconstructing the data as a dictionary\n",
    "\n",
    "js = json.loads(data)\n",
    "\n",
    "first_sklearn_hash = js['default']['scikit-learn']['hashes'][0]\n",
    "first_sklearn_hash"
   ]
  },
  {
   "cell_type": "markdown",
   "id": "2a6d22c9-1afd-46b3-a5fd-5157b7aa99c7",
   "metadata": {},
   "source": [
    "**Answer**: The first scikit-learn hash is 'sha256:08ef968f6b72033c16c479c966bf37ccd49b06ea91b765e1cc27afefe723920b'"
   ]
  },
  {
   "cell_type": "markdown",
   "id": "44d70274-c100-40ef-bc3b-82c245bf03c7",
   "metadata": {},
   "source": [
    "## Question 5"
   ]
  },
  {
   "cell_type": "code",
   "execution_count": 22,
   "id": "04f900c5-d46a-4b06-a7da-7b0dd7ca520a",
   "metadata": {},
   "outputs": [
    {
     "name": "stdout",
     "output_type": "stream",
     "text": [
      "16.298821614015107\n"
     ]
    },
    {
     "name": "stderr",
     "output_type": "stream",
     "text": [
      "C:\\ProgramData\\Anaconda3\\envs\\mlops\\lib\\site-packages\\sklearn\\base.py:329: UserWarning: Trying to unpickle estimator DictVectorizer from version 1.0.2 when using version 1.1.0. This might lead to breaking code or invalid results. Use at your own risk. For more info please refer to:\n",
      "https://scikit-learn.org/stable/modules/model_persistence.html#security-maintainability-limitations\n",
      "  warnings.warn(\n",
      "C:\\ProgramData\\Anaconda3\\envs\\mlops\\lib\\site-packages\\sklearn\\base.py:329: UserWarning: Trying to unpickle estimator LinearRegression from version 1.0.2 when using version 1.1.0. This might lead to breaking code or invalid results. Use at your own risk. For more info please refer to:\n",
      "https://scikit-learn.org/stable/modules/model_persistence.html#security-maintainability-limitations\n",
      "  warnings.warn(\n"
     ]
    }
   ],
   "source": [
    "!python starter_parameterized.py --model_path=\"model.bin\" --year=2021 --month=3"
   ]
  },
  {
   "cell_type": "markdown",
   "id": "4c8d2a80-0e1b-41b1-8076-e8c724414f08",
   "metadata": {},
   "source": [
    "**Answer**: 16.29"
   ]
  },
  {
   "cell_type": "markdown",
   "id": "1f9b9dac-e1eb-4204-b643-b00148dad4d0",
   "metadata": {},
   "source": [
    "## Question 6"
   ]
  },
  {
   "cell_type": "code",
   "execution_count": 23,
   "id": "747ae0a3-aed7-4bd7-800f-3325016a83c7",
   "metadata": {},
   "outputs": [],
   "source": [
    "!conda deactivate"
   ]
  },
  {
   "cell_type": "code",
   "execution_count": 24,
   "id": "f4463215-3e9d-4381-83c1-89898b6d5e00",
   "metadata": {},
   "outputs": [
    {
     "name": "stderr",
     "output_type": "stream",
     "text": [
      "#1 [internal] load build definition from Dockerfile\n",
      "#1 sha256:3154d6f04f08ab6d47b6804da35ddbda70d7d9e9f7fed1580262ed150fa7aee8\n",
      "#1 DONE 0.0s\n",
      "\n",
      "#1 [internal] load build definition from Dockerfile\n",
      "#1 sha256:3154d6f04f08ab6d47b6804da35ddbda70d7d9e9f7fed1580262ed150fa7aee8\n",
      "#1 transferring dockerfile: 32B 0.0s done\n",
      "#1 DONE 0.2s\n",
      "\n",
      "#2 [internal] load .dockerignore\n",
      "#2 sha256:88b120551db297583f001c65b70f183aabc159a2e82d6cf0a148fc12b3a633b9\n",
      "#2 transferring context: 2B done\n",
      "#2 DONE 0.2s\n",
      "\n",
      "#3 [internal] load metadata for docker.io/agrigorev/zoomcamp-model:mlops-3.9.7-slim\n",
      "#3 sha256:9c6de1724918823f0bdfbc1643b5c0a98c6f8ae87dbe0aee7d0966007c311db1\n",
      "#3 DONE 1.1s\n",
      "\n",
      "#4 [1/6] FROM docker.io/agrigorev/zoomcamp-model:mlops-3.9.7-slim@sha256:7fac33c783cc6018356ce16a4b408f6c977b55a4df52bdb6c4d0215edf83af5d\n",
      "#4 sha256:7ba154a0f27d34a1489d3f4c2a518eeaafc8ade7d10076d9e37a389f52b478cd\n",
      "#4 CACHED\n",
      "\n",
      "#7 [internal] load build context\n",
      "#7 sha256:d593853f8c02996d2cd784bf85116fd02b9dd0b7249a38e6af87126404cc1829\n",
      "#7 transferring context: 302B 0.0s done\n",
      "#7 DONE 0.1s\n",
      "\n",
      "#5 [2/6] RUN pip install -U pip\n",
      "#5 sha256:1a707a85acc8c4d8d1234b0fb8161edcd2d77a9814f411db307bd678ec6cfbb0\n",
      "#5 3.106 Requirement already satisfied: pip in /usr/local/lib/python3.9/site-packages (21.2.4)\n",
      "#5 3.395 Collecting pip\n",
      "#5 3.525   Downloading pip-22.1.2-py3-none-any.whl (2.1 MB)\n",
      "#5 3.972 Installing collected packages: pip\n",
      "#5 3.972   Attempting uninstall: pip\n",
      "#5 3.973     Found existing installation: pip 21.2.4\n",
      "#5 4.359     Uninstalling pip-21.2.4:\n",
      "#5 4.728       Successfully uninstalled pip-21.2.4\n",
      "#5 6.825 Successfully installed pip-22.1.2\n",
      "#5 6.825 WARNING: Running pip as the 'root' user can result in broken permissions and conflicting behaviour with the system package manager. It is recommended to use a virtual environment instead: https://pip.pypa.io/warnings/venv\n",
      "#5 DONE 7.5s\n",
      "\n",
      "#6 [3/6] RUN pip install pipenv\n",
      "#6 sha256:56a943dbc046a9accd0fd31e47cf8d6fc6b591b62b696ed852d4088234db4aea\n",
      "#6 1.439 Collecting pipenv\n",
      "#6 1.564   Downloading pipenv-2022.6.7-py2.py3-none-any.whl (3.9 MB)\n",
      "#6 2.018      â”�â”�â”�â”�â”�â”�â”�â”�â”�â”�â”�â”�â”�â”�â”�â”�â”�â”�â”�â”�â”�â”�â”�â”�â”�â”�â”�â”�â”�â”�â”�â”�â”�â”�â”�â”�â”�â”�â”�â”� 3.9/3.9 MB 8.8 MB/s eta 0:00:00\n",
      "#6 2.083 Requirement already satisfied: pip>=22.0.4 in /usr/local/lib/python3.9/site-packages (from pipenv) (22.1.2)\n",
      "#6 2.163 Collecting virtualenv-clone>=0.2.5\n",
      "#6 2.186   Downloading virtualenv_clone-0.5.7-py3-none-any.whl (6.6 kB)\n",
      "#6 2.259 Collecting certifi\n",
      "#6 2.284   Downloading certifi-2022.6.15-py3-none-any.whl (160 kB)\n",
      "#6 2.312      â”�â”�â”�â”�â”�â”�â”�â”�â”�â”�â”�â”�â”�â”�â”�â”�â”�â”�â”�â”�â”�â”�â”�â”�â”�â”�â”�â”�â”�â”�â”�â”�â”�â”�â”�â”�â”�â”�â”� 160.2/160.2 kB 6.1 MB/s eta 0:00:00\n",
      "#6 2.520 Collecting virtualenv\n",
      "#6 2.548   Downloading virtualenv-20.15.0-py2.py3-none-any.whl (10.1 MB)\n",
      "#6 3.368      â”�â”�â”�â”�â”�â”�â”�â”�â”�â”�â”�â”�â”�â”�â”�â”�â”�â”�â”�â”�â”�â”�â”�â”�â”�â”�â”�â”�â”�â”�â”�â”�â”�â”�â”�â”�â”�â”�â”�â”� 10.1/10.1 MB 12.4 MB/s eta 0:00:00\n",
      "#6 3.410 Requirement already satisfied: setuptools>=36.2.1 in /usr/local/lib/python3.9/site-packages (from pipenv) (57.5.0)\n",
      "#6 3.515 Collecting filelock<4,>=3.2\n",
      "#6 3.535   Downloading filelock-3.7.1-py3-none-any.whl (10 kB)\n",
      "#6 3.597 Collecting six<2,>=1.9.0\n",
      "#6 3.618   Downloading six-1.16.0-py2.py3-none-any.whl (11 kB)\n",
      "#6 3.674 Collecting distlib<1,>=0.3.1\n",
      "#6 3.697   Downloading distlib-0.3.4-py2.py3-none-any.whl (461 kB)\n",
      "#6 3.748      â”�â”�â”�â”�â”�â”�â”�â”�â”�â”�â”�â”�â”�â”�â”�â”�â”�â”�â”�â”�â”�â”�â”�â”�â”�â”�â”�â”�â”�â”�â”�â”�â”�â”�â”�â”�â”�â”�â”� 461.2/461.2 kB 9.7 MB/s eta 0:00:00\n",
      "#6 3.799 Collecting platformdirs<3,>=2\n",
      "#6 3.820   Downloading platformdirs-2.5.2-py3-none-any.whl (14 kB)\n",
      "#6 4.004 Installing collected packages: distlib, virtualenv-clone, six, platformdirs, filelock, certifi, virtualenv, pipenv\n",
      "#6 7.228 Successfully installed certifi-2022.6.15 distlib-0.3.4 filelock-3.7.1 pipenv-2022.6.7 platformdirs-2.5.2 six-1.16.0 virtualenv-20.15.0 virtualenv-clone-0.5.7\n",
      "#6 7.228 WARNING: Running pip as the 'root' user can result in broken permissions and conflicting behaviour with the system package manager. It is recommended to use a virtual environment instead: https://pip.pypa.io/warnings/venv\n",
      "#6 DONE 7.9s\n",
      "\n",
      "#8 [4/6] COPY [Pipfile, Pipfile.lock, ./]\n",
      "#8 sha256:eca5b3037aa9c73702b186cecef985853297bc858b324e65d5a69e5c6270fa9b\n",
      "#8 DONE 0.1s\n",
      "\n",
      "#9 [5/6] RUN pipenv install --system --deploy\n",
      "#9 sha256:aacb0fc359f658bb9b3b719c52cc20f366e7a66c739b9defec34a545329aa30e\n",
      "#9 1.598 Installing dependencies from Pipfile.lock (4076db)...\n",
      "#9 1.790   ðŸ��   â–‰â–‰â–‰â–‰â–‰â–‰â–‰â–‰â–‰â–‰â–‰â–‰â–‰â–‰â–‰â–‰â–‰â–‰â–‰â–‰â–‰â–‰â–‰â–‰â–‰â–‰â–‰â–‰â–‰â–‰â–‰â–‰ 0/9 â€” 00:00:00\n",
      "  ðŸ��   â–‰â–‰â–‰â–‰â–‰â–‰â–‰â–‰â–‰â–‰â–‰â–‰â–‰â–‰â–‰â–‰â–‰â–‰â–‰â–‰â–‰â–‰â–‰â–‰â–‰â–‰â–‰â–‰â–‰â–‰â–‰â–‰ 1/9 â€” 00:00:00\n",
      "  ðŸ��   â–‰â–‰â–‰â–‰â–‰â–‰â–‰â–‰â–‰â–‰â–‰â–‰â–‰â–‰â–‰â–‰â–‰â–‰â–‰â–‰â–‰â–‰â–‰â–‰â–‰â–‰â–‰â–‰â–‰â–‰â–‰â–‰ 2/9 â€” 00:00:00\n",
      "  ðŸ��   â–‰â–‰â–‰â–‰â–‰â–‰â–‰â–‰â–‰â–‰â–‰â–‰â–‰â–‰â–‰â–‰â–‰â–‰â–‰â–‰â–‰â–‰â–‰â–‰â–‰â–‰â–‰â–‰â–‰â–‰â–‰â–‰ 3/9 â€” 00:00:00\n",
      "  ðŸ��   â–‰â–‰â–‰â–‰â–‰â–‰â–‰â–‰â–‰â–‰â–‰â–‰â–‰â–‰â–‰â–‰â–‰â–‰â–‰â–‰â–‰â–‰â–‰â–‰â–‰â–‰â–‰â–‰â–‰â–‰â–‰â–‰ 4/9 â€” 00:00:00\n",
      "  ðŸ��   â–‰â–‰â–‰â–‰â–‰â–‰â–‰â–‰â–‰â–‰â–‰â–‰â–‰â–‰â–‰â–‰â–‰â–‰â–‰â–‰â–‰â–‰â–‰â–‰â–‰â–‰â–‰â–‰â–‰â–‰â–‰â–‰ 5/9 â€” 00:00:00\n",
      "  ðŸ��   â–‰â–‰â–‰â–‰â–‰â–‰â–‰â–‰â–‰â–‰â–‰â–‰â–‰â–‰â–‰â–‰â–‰â–‰â–‰â–‰â–‰â–‰â–‰â–‰â–‰â–‰â–‰â–‰â–‰â–‰â–‰â–‰ 6/9 â€” 00:00:00\n",
      "  ðŸ��   â–‰â–‰â–‰â–‰â–‰â–‰â–‰â–‰â–‰â–‰â–‰â–‰â–‰â–‰â–‰â–‰â–‰â–‰â–‰â–‰â–‰â–‰â–‰â–‰â–‰â–‰â–‰â–‰â–‰â–‰â–‰â–‰ 7/9 â€” 00:00:00\n",
      "  ðŸ��   â–‰â–‰â–‰â–‰â–‰â–‰â–‰â–‰â–‰â–‰â–‰â–‰â–‰â–‰â–‰â–‰â–‰â–‰â–‰â–‰â–‰â–‰â–‰â–‰â–‰â–‰â–‰â–‰â–‰â–‰â–‰â–‰ 8/9 â€” 00:00:02\n",
      "  ðŸ��   â–‰â–‰â–‰â–‰â–‰â–‰â–‰â–‰â–‰â–‰â–‰â–‰â–‰â–‰â–‰â–‰â–‰â–‰â–‰â–‰â–‰â–‰â–‰â–‰â–‰â–‰â–‰â–‰â–‰â–‰â–‰â–‰ 9/9 â€” 00:00:02\n",
      "  ðŸ��   â–‰â–‰â–‰â–‰â–‰â–‰â–‰â–‰â–‰â–‰â–‰â–‰â–‰â–‰â–‰â–‰â–‰â–‰â–‰â–‰â–‰â–‰â–‰â–‰â–‰â–‰â–‰â–‰â–‰â–‰â–‰â–‰ 9/9 â€” 00:00:19\n",
      "#9 DONE 27.5s\n",
      "\n",
      "#10 [6/6] COPY [starter_parameterized.py, ./starter_parameterized_docker.py]\n",
      "#10 sha256:ea925a22825347d5e575b47ae2e121d4dfeff00e00a75a3a48cd687c9f91a8a3\n",
      "#10 DONE 0.2s\n",
      "\n",
      "#11 exporting to image\n",
      "#11 sha256:e8c613e07b0b7ff33893b694f7759a10d42e180f2b4dc349fb57dc6b71dcab00\n",
      "#11 exporting layers\n",
      "#11 exporting layers 3.7s done\n",
      "#11 writing image sha256:f873419829b75f380f54f091dab9c92929e2224c771ecc276057d55992dc7023 done\n",
      "#11 naming to docker.io/library/starter_parameterized:v1 done\n",
      "#11 DONE 3.7s\n",
      "\n",
      "Use 'docker scan' to run Snyk tests against images to find vulnerabilities and learn how to fix them\n"
     ]
    }
   ],
   "source": [
    "!docker build -t starter_parameterized:v1 . --no-cache"
   ]
  },
  {
   "cell_type": "code",
   "execution_count": 25,
   "id": "73e100a5-75f2-47f5-beee-c8be853279f0",
   "metadata": {},
   "outputs": [
    {
     "name": "stdout",
     "output_type": "stream",
     "text": [
      "9.967573179784523\n"
     ]
    }
   ],
   "source": [
    "!docker run --rm starter_parameterized:v1 "
   ]
  },
  {
   "cell_type": "markdown",
   "id": "c88fd47a-545c-415e-ba65-ee0c8aed051b",
   "metadata": {},
   "source": [
    "**Answer**: 9.96"
   ]
  },
  {
   "cell_type": "markdown",
   "id": "a937af82-8e5b-48ca-8bea-f319bd6fd30b",
   "metadata": {},
   "source": [
    "## Bonus"
   ]
  },
  {
   "cell_type": "code",
   "execution_count": null,
   "id": "bdbc5bb2-eb4b-4855-8fb9-6d0df917940f",
   "metadata": {},
   "outputs": [],
   "source": []
  },
  {
   "cell_type": "code",
   "execution_count": null,
   "id": "7376d4ec-4376-48e0-a1e5-af297d0594c5",
   "metadata": {},
   "outputs": [],
   "source": []
  }
 ],
 "metadata": {
  "kernelspec": {
   "display_name": "mlops",
   "language": "python",
   "name": "mlops"
  },
  "language_info": {
   "codemirror_mode": {
    "name": "ipython",
    "version": 3
   },
   "file_extension": ".py",
   "mimetype": "text/x-python",
   "name": "python",
   "nbconvert_exporter": "python",
   "pygments_lexer": "ipython3",
   "version": "3.9.12"
  }
 },
 "nbformat": 4,
 "nbformat_minor": 5
}
