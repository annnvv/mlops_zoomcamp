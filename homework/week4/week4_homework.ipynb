{
 "cells": [
  {
   "cell_type": "markdown",
   "id": "d8bc4434-509b-48db-9457-a769df048e9c",
   "metadata": {},
   "source": [
    "## Homework #4\n",
    "Author: Anna Vasylytsya\n",
    "\n",
    "[Homework assignment prompt](https://github.com/DataTalksClub/mlops-zoomcamp/blob/main/04-deployment/homework.md)"
   ]
  },
  {
   "cell_type": "markdown",
   "id": "b4f48809-b520-408c-9eb9-9a0079ee88f4",
   "metadata": {},
   "source": [
    "## Question 1"
   ]
  },
  {
   "cell_type": "markdown",
   "id": "c1a96618-015e-4ab6-98d6-94965a0a0793",
   "metadata": {},
   "source": [
    "What's the mean predicted duration for this dataset?\n",
    "\n",
    "**Answer**: 16.19 (see starter.ipynb for calculation)"
   ]
  },
  {
   "cell_type": "markdown",
   "id": "6da0dc42-e50a-43d1-97b2-2d0d85629741",
   "metadata": {},
   "source": [
    "## Question 2"
   ]
  },
  {
   "cell_type": "code",
   "execution_count": null,
   "id": "c5c31fc9-4c54-45d5-b653-0a38d7babc52",
   "metadata": {},
   "outputs": [],
   "source": [
    "!dir \"*.parquet\" /s/a:-d|find \"/\""
   ]
  },
  {
   "cell_type": "markdown",
   "id": "d28b5b94-fffa-4fb1-8301-7a58a1247744",
   "metadata": {},
   "source": [
    "**Answer**: 19MB"
   ]
  },
  {
   "cell_type": "markdown",
   "id": "f0d72031-33b1-4374-9535-18f09561bfba",
   "metadata": {},
   "source": [
    "## Question 3"
   ]
  },
  {
   "cell_type": "code",
   "execution_count": null,
   "id": "67e43df3-dea7-41ac-8d73-02eb58b5c01a",
   "metadata": {},
   "outputs": [],
   "source": [
    "!jupyter nbconvert --to script starter.ipynb"
   ]
  },
  {
   "cell_type": "markdown",
   "id": "7c606247-d9a0-4107-a6d9-74534ad7f958",
   "metadata": {},
   "source": [
    "**Answer**: jupyter nbconvert --to script starter.ipynb"
   ]
  },
  {
   "cell_type": "markdown",
   "id": "89495c5b-0701-4f38-97d7-60ea8374d620",
   "metadata": {},
   "source": [
    "## Question 4"
   ]
  },
  {
   "cell_type": "code",
   "execution_count": null,
   "id": "dc8310f8-8453-49fd-bee9-9927771c95fa",
   "metadata": {},
   "outputs": [],
   "source": [
    "!pipenv --python 3.9.7"
   ]
  },
  {
   "cell_type": "code",
   "execution_count": null,
   "id": "d0c7bfa0-e36b-4f9d-b12b-2125fa1e6bf9",
   "metadata": {},
   "outputs": [],
   "source": [
    "!pipenv install pandas scikit-learn==1.0.2 "
   ]
  },
  {
   "cell_type": "code",
   "execution_count": null,
   "id": "a6abf739-c8ba-4d13-9964-8502357bebfa",
   "metadata": {},
   "outputs": [],
   "source": [
    "import json\n",
    "  \n",
    "# reading the data from the file\n",
    "with open('Pipfile.lock') as f:\n",
    "    data = f.read()\n",
    "# reconstructing the data as a dictionary\n",
    "\n",
    "js = json.loads(data)\n",
    "\n",
    "first_sklearn_hash = js['default']['scikit-learn']['hashes'][0]\n",
    "first_sklearn_hash"
   ]
  },
  {
   "cell_type": "markdown",
   "id": "2a6d22c9-1afd-46b3-a5fd-5157b7aa99c7",
   "metadata": {},
   "source": [
    "**Answer**: The first scikit-learn hash is 'sha256:08ef968f6b72033c16c479c966bf37ccd49b06ea91b765e1cc27afefe723920b'"
   ]
  },
  {
   "cell_type": "markdown",
   "id": "44d70274-c100-40ef-bc3b-82c245bf03c7",
   "metadata": {},
   "source": [
    "## Question 5"
   ]
  },
  {
   "cell_type": "code",
   "execution_count": null,
   "id": "04f900c5-d46a-4b06-a7da-7b0dd7ca520a",
   "metadata": {},
   "outputs": [],
   "source": [
    "!python starter_parameterized.py --year=2021 --month=3"
   ]
  },
  {
   "cell_type": "markdown",
   "id": "4c8d2a80-0e1b-41b1-8076-e8c724414f08",
   "metadata": {},
   "source": [
    "**Answer**: 16.29"
   ]
  },
  {
   "cell_type": "markdown",
   "id": "1f9b9dac-e1eb-4204-b643-b00148dad4d0",
   "metadata": {},
   "source": [
    "## Question 6"
   ]
  },
  {
   "cell_type": "code",
   "execution_count": null,
   "id": "747ae0a3-aed7-4bd7-800f-3325016a83c7",
   "metadata": {},
   "outputs": [],
   "source": [
    "!conda deactivate"
   ]
  },
  {
   "cell_type": "code",
   "execution_count": null,
   "id": "f4463215-3e9d-4381-83c1-89898b6d5e00",
   "metadata": {},
   "outputs": [],
   "source": [
    "!docker build -t starter_parameterized:v1 . --no-cache"
   ]
  },
  {
   "cell_type": "code",
   "execution_count": null,
   "id": "73e100a5-75f2-47f5-beee-c8be853279f0",
   "metadata": {},
   "outputs": [],
   "source": [
    "!docker run --rm starter_parameterized:v1 "
   ]
  },
  {
   "cell_type": "markdown",
   "id": "c88fd47a-545c-415e-ba65-ee0c8aed051b",
   "metadata": {},
   "source": [
    "**Answer**: 9.96"
   ]
  },
  {
   "cell_type": "markdown",
   "id": "a937af82-8e5b-48ca-8bea-f319bd6fd30b",
   "metadata": {},
   "source": [
    "## Bonus"
   ]
  },
  {
   "cell_type": "code",
   "execution_count": null,
   "id": "bdbc5bb2-eb4b-4855-8fb9-6d0df917940f",
   "metadata": {},
   "outputs": [],
   "source": []
  },
  {
   "cell_type": "code",
   "execution_count": null,
   "id": "7376d4ec-4376-48e0-a1e5-af297d0594c5",
   "metadata": {},
   "outputs": [],
   "source": []
  }
 ],
 "metadata": {
  "kernelspec": {
   "display_name": "mlops",
   "language": "python",
   "name": "mlops"
  },
  "language_info": {
   "codemirror_mode": {
    "name": "ipython",
    "version": 3
   },
   "file_extension": ".py",
   "mimetype": "text/x-python",
   "name": "python",
   "nbconvert_exporter": "python",
   "pygments_lexer": "ipython3",
   "version": "3.9.12"
  }
 },
 "nbformat": 4,
 "nbformat_minor": 5
}
