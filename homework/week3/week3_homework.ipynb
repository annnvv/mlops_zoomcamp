{
 "cells": [
  {
   "cell_type": "markdown",
   "id": "047931cb-86be-4a07-9a5c-3e80a2706d8c",
   "metadata": {
    "tags": []
   },
   "source": [
    "## Homework #3\n",
    "**Author**: Anna Vasylytsya\n",
    "\n",
    "[Homework assignment prompt](https://github.com/DataTalksClub/mlops-zoomcamp/blob/main/03-orchestration/homework.md)"
   ]
  },
  {
   "cell_type": "markdown",
   "id": "114bbac3-1f92-4a2e-a2b2-07bf00b0e801",
   "metadata": {},
   "source": [
    "## Question 1"
   ]
  },
  {
   "cell_type": "code",
   "execution_count": 1,
   "id": "a230e83e-ed71-4b22-b658-86d5b6a0df12",
   "metadata": {},
   "outputs": [
    {
     "name": "stderr",
     "output_type": "stream",
     "text": [
      "08:48:09.973 | INFO    | prefect.engine - Created flow run 'overjoyed-inchworm' for flow 'main'\n",
      "08:48:09.973 | INFO    | Flow run 'overjoyed-inchworm' - Using task runner 'SequentialTaskRunner'\n",
      "08:48:10.004 | WARNING | Flow run 'overjoyed-inchworm' - No default storage is configured on the server. Results from this flow run will be stored in a temporary directory in its runtime environment.\n",
      "08:48:10.212 | INFO    | Flow run 'overjoyed-inchworm' - Created task run 'read_data-4c7f9de4-0' for task 'read_data'\n",
      "08:48:23.278 | INFO    | Task run 'read_data-4c7f9de4-0' - Finished in state Completed()\n",
      "08:48:23.332 | INFO    | Flow run 'overjoyed-inchworm' - Created task run 'prepare_features-4ee39d9f-0' for task 'prepare_features'\n",
      "08:48:23.552 | INFO    | Task run 'prepare_features-4ee39d9f-0' - The mean duration of training is 16.2472533682457\n",
      "08:48:32.232 | INFO    | Task run 'prepare_features-4ee39d9f-0' - Finished in state Completed()\n",
      "08:48:32.413 | INFO    | Flow run 'overjoyed-inchworm' - Created task run 'read_data-4c7f9de4-1' for task 'read_data'\n",
      "08:48:40.759 | INFO    | Task run 'read_data-4c7f9de4-1' - Finished in state Completed()\n",
      "08:48:40.821 | INFO    | Flow run 'overjoyed-inchworm' - Created task run 'prepare_features-4ee39d9f-1' for task 'prepare_features'\n",
      "08:48:41.025 | INFO    | Task run 'prepare_features-4ee39d9f-1' - The mean duration of validation is 16.859265811074096\n",
      "08:48:49.849 | INFO    | Task run 'prepare_features-4ee39d9f-1' - Finished in state Completed()\n",
      "08:48:50.146 | INFO    | Flow run 'overjoyed-inchworm' - Created task run 'train_model-7c866860-0' for task 'train_model'\n",
      "08:48:58.704 | INFO    | Task run 'train_model-7c866860-0' - The shape of X_train is (1109826, 525)\n",
      "08:48:58.705 | INFO    | Task run 'train_model-7c866860-0' - The DictVectorizer has 525 features\n",
      "08:49:15.718 | INFO    | Task run 'train_model-7c866860-0' - The MSE of training is: 10.528519107212437\n",
      "08:49:15.900 | INFO    | Task run 'train_model-7c866860-0' - Finished in state Completed()\n",
      "08:49:15.981 | INFO    | Flow run 'overjoyed-inchworm' - Created task run 'run_model-6559300c-0' for task 'run_model'\n",
      "08:49:22.962 | INFO    | Task run 'run_model-6559300c-0' - The MSE of validation is: 11.014283205657666\n",
      "08:49:23.114 | INFO    | Task run 'run_model-6559300c-0' - Finished in state Completed()\n",
      "08:49:33.866 | INFO    | Flow run 'overjoyed-inchworm' - Finished in state Completed('All states completed.')\n"
     ]
    }
   ],
   "source": [
    "!python homework_prefect_flow_q1.py"
   ]
  },
  {
   "cell_type": "markdown",
   "id": "ab025183-c9a8-4d8e-bed6-f52e173ebb62",
   "metadata": {},
   "source": [
    "**Answer**: `.values()` needs to be added to the `train_model` function that is called in the flow."
   ]
  },
  {
   "cell_type": "markdown",
   "id": "14ed9871-98d5-46bb-bcc6-bece7f8fd978",
   "metadata": {},
   "source": [
    "## Question 2"
   ]
  },
  {
   "cell_type": "code",
   "execution_count": 2,
   "id": "d2a91cdb-7b8d-4fdd-8dc9-f37262c42796",
   "metadata": {},
   "outputs": [
    {
     "name": "stderr",
     "output_type": "stream",
     "text": [
      "08:49:44.674 | INFO    | prefect.engine - Created flow run 'spectacular-parakeet' for flow 'main'\n",
      "08:49:44.674 | INFO    | Flow run 'spectacular-parakeet' - Using task runner 'SequentialTaskRunner'\n",
      "08:49:44.690 | WARNING | Flow run 'spectacular-parakeet' - No default storage is configured on the server. Results from this flow run will be stored in a temporary directory in its runtime environment.\n",
      "08:49:44.799 | INFO    | Flow run 'spectacular-parakeet' - Created task run 'get_paths-6e696e34-0' for task 'get_paths'\n",
      "08:49:44.863 | INFO    | Task run 'get_paths-6e696e34-0' - Train path is https://nyc-tlc.s3.amazonaws.com/trip+data/fhv_tripdata_2021-06.parquet\n",
      "08:49:44.865 | INFO    | Task run 'get_paths-6e696e34-0' - Val path is https://nyc-tlc.s3.amazonaws.com/trip+data/fhv_tripdata_2021-07.parquet\n",
      "08:49:44.927 | INFO    | Task run 'get_paths-6e696e34-0' - Finished in state Completed()\n",
      "08:49:44.976 | INFO    | Flow run 'spectacular-parakeet' - Created task run 'read_data-4c7f9de4-0' for task 'read_data'\n",
      "08:50:04.652 | INFO    | Task run 'read_data-4c7f9de4-0' - Finished in state Completed()\n",
      "08:50:04.710 | INFO    | Flow run 'spectacular-parakeet' - Created task run 'prepare_features-4ee39d9f-0' for task 'prepare_features'\n",
      "08:50:04.966 | INFO    | Task run 'prepare_features-4ee39d9f-0' - The mean duration of training is 18.230538791569113\n",
      "08:50:15.913 | INFO    | Task run 'prepare_features-4ee39d9f-0' - Finished in state Completed()\n",
      "08:50:15.991 | INFO    | Flow run 'spectacular-parakeet' - Created task run 'read_data-4c7f9de4-1' for task 'read_data'\n",
      "08:50:24.898 | INFO    | Task run 'read_data-4c7f9de4-1' - Finished in state Completed()\n",
      "08:50:24.974 | INFO    | Flow run 'spectacular-parakeet' - Created task run 'prepare_features-4ee39d9f-1' for task 'prepare_features'\n",
      "08:50:25.217 | INFO    | Task run 'prepare_features-4ee39d9f-1' - The mean duration of validation is 17.91113046137945\n",
      "08:50:34.229 | INFO    | Task run 'prepare_features-4ee39d9f-1' - Finished in state Completed()\n",
      "08:50:34.296 | INFO    | Flow run 'spectacular-parakeet' - Created task run 'train_model-7c866860-0' for task 'train_model'\n",
      "08:50:41.362 | INFO    | Task run 'train_model-7c866860-0' - The shape of X_train is (1222031, 525)\n",
      "08:50:41.363 | INFO    | Task run 'train_model-7c866860-0' - The DictVectorizer has 525 features\n",
      "08:50:58.758 | INFO    | Task run 'train_model-7c866860-0' - The MSE of training is: 11.789352609207045\n",
      "08:50:58.941 | INFO    | Task run 'train_model-7c866860-0' - Finished in state Completed()\n",
      "08:50:58.998 | INFO    | Flow run 'spectacular-parakeet' - Created task run 'run_model-6559300c-0' for task 'run_model'\n",
      "08:51:10.886 | INFO    | Task run 'run_model-6559300c-0' - The MSE of validation is: 11.63703256712469\n",
      "08:51:11.242 | INFO    | Task run 'run_model-6559300c-0' - Finished in state Completed()\n",
      "08:51:33.779 | INFO    | Flow run 'spectacular-parakeet' - Finished in state Completed('All states completed.')\n"
     ]
    }
   ],
   "source": [
    "!python homework_prefect_flow_q2.py"
   ]
  },
  {
   "cell_type": "markdown",
   "id": "771a3a96-b9af-4dd4-b24b-0822d4c4a043",
   "metadata": {},
   "source": [
    "**Answer**: The validation MSE is `11.637`."
   ]
  },
  {
   "cell_type": "markdown",
   "id": "f78e8be9-fafc-4443-b5a9-9c7b73393cc4",
   "metadata": {},
   "source": [
    "## Question 3"
   ]
  },
  {
   "cell_type": "code",
   "execution_count": 3,
   "id": "287e1c56-63ee-45d3-a962-25efb866cb2c",
   "metadata": {},
   "outputs": [
    {
     "name": "stderr",
     "output_type": "stream",
     "text": [
      "08:51:43.646 | INFO    | prefect.engine - Created flow run 'muscular-bobcat' for flow 'main'\n",
      "08:51:43.647 | INFO    | Flow run 'muscular-bobcat' - Using task runner 'SequentialTaskRunner'\n",
      "08:51:43.670 | WARNING | Flow run 'muscular-bobcat' - No default storage is configured on the server. Results from this flow run will be stored in a temporary directory in its runtime environment.\n",
      "08:51:43.769 | INFO    | Flow run 'muscular-bobcat' - Created task run 'get_paths-6e696e34-0' for task 'get_paths'\n",
      "08:51:43.816 | INFO    | Task run 'get_paths-6e696e34-0' - Train path is https://nyc-tlc.s3.amazonaws.com/trip+data/fhv_tripdata_2021-06.parquet\n",
      "08:51:43.816 | INFO    | Task run 'get_paths-6e696e34-0' - Val path is https://nyc-tlc.s3.amazonaws.com/trip+data/fhv_tripdata_2021-07.parquet\n",
      "08:51:43.863 | INFO    | Task run 'get_paths-6e696e34-0' - Finished in state Completed()\n",
      "08:51:43.910 | INFO    | Flow run 'muscular-bobcat' - Created task run 'read_data-4c7f9de4-0' for task 'read_data'\n",
      "08:51:58.501 | INFO    | Task run 'read_data-4c7f9de4-0' - Finished in state Completed()\n",
      "08:51:58.563 | INFO    | Flow run 'muscular-bobcat' - Created task run 'prepare_features-4ee39d9f-0' for task 'prepare_features'\n",
      "08:51:58.770 | INFO    | Task run 'prepare_features-4ee39d9f-0' - The mean duration of training is 18.230538791569113\n",
      "08:52:07.178 | INFO    | Task run 'prepare_features-4ee39d9f-0' - Finished in state Completed()\n",
      "08:52:07.256 | INFO    | Flow run 'muscular-bobcat' - Created task run 'read_data-4c7f9de4-1' for task 'read_data'\n",
      "08:52:16.299 | INFO    | Task run 'read_data-4c7f9de4-1' - Finished in state Completed()\n",
      "08:52:16.367 | INFO    | Flow run 'muscular-bobcat' - Created task run 'prepare_features-4ee39d9f-1' for task 'prepare_features'\n",
      "08:52:16.624 | INFO    | Task run 'prepare_features-4ee39d9f-1' - The mean duration of validation is 17.91113046137945\n",
      "08:52:25.213 | INFO    | Task run 'prepare_features-4ee39d9f-1' - Finished in state Completed()\n",
      "08:52:25.285 | INFO    | Flow run 'muscular-bobcat' - Created task run 'train_model-7c866860-0' for task 'train_model'\n",
      "08:52:32.705 | INFO    | Task run 'train_model-7c866860-0' - The shape of X_train is (1222031, 525)\n",
      "08:52:32.705 | INFO    | Task run 'train_model-7c866860-0' - The DictVectorizer has 525 features\n",
      "08:52:49.119 | INFO    | Task run 'train_model-7c866860-0' - The MSE of training is: 11.789352609207045\n",
      "08:52:49.295 | INFO    | Task run 'train_model-7c866860-0' - Finished in state Completed()\n",
      "08:52:49.356 | INFO    | Flow run 'muscular-bobcat' - Created task run 'run_model-6559300c-0' for task 'run_model'\n",
      "08:52:56.510 | INFO    | Task run 'run_model-6559300c-0' - The MSE of validation is: 11.63703256712469\n",
      "08:52:56.669 | INFO    | Task run 'run_model-6559300c-0' - Finished in state Completed()\n",
      "08:53:07.567 | INFO    | Flow run 'muscular-bobcat' - Finished in state Completed('All states completed.')\n"
     ]
    }
   ],
   "source": [
    "!python homework_prefect_flow_q3.py"
   ]
  },
  {
   "cell_type": "code",
   "execution_count": 4,
   "id": "b83fc945-4db6-4c99-ace4-6c1905c7f77d",
   "metadata": {},
   "outputs": [
    {
     "name": "stdout",
     "output_type": "stream",
     "text": [
      "06/11/2022  08:52 AM            13,191 dv-2021-08-15.b\n"
     ]
    }
   ],
   "source": [
    "!dir \"artifacts\\dv-*\" /s/a:-d|find \"/\""
   ]
  },
  {
   "cell_type": "markdown",
   "id": "85391987-24e1-4520-b453-86dd543e524a",
   "metadata": {},
   "source": [
    "**Answer**: about `13,000 bytes`"
   ]
  },
  {
   "cell_type": "markdown",
   "id": "96ebff3a-cb65-40e0-b8fd-ae55cc097753",
   "metadata": {},
   "source": [
    "## Question 4 - Creating a deployment with a CronSchedule"
   ]
  },
  {
   "cell_type": "markdown",
   "id": "e5e33084-ef6b-4264-9d23-5afdbe67cd7e",
   "metadata": {},
   "source": [
    "Question: What is the Cron expression to run a flow at 9 AM every 15th of the month?\n",
    "\n",
    "Minute (0-59), Hour (0-23), Day of Month (1-31), Month (1-12), Day of Week (0-6=Sunday-Saturday)\n",
    "\n",
    "**Answer**: `0 9 15 * *`"
   ]
  },
  {
   "cell_type": "code",
   "execution_count": 5,
   "id": "cc3d616b-0501-4668-a950-e145e8ed6073",
   "metadata": {},
   "outputs": [
    {
     "name": "stdout",
     "output_type": "stream",
     "text": [
      "Loading deployment specifications from python script at \n",
      "'homework_prefect_flow_q4.py'...\n",
      "Creating deployment 'scheduled-deployment-q4' for flow 'main'...\n",
      "Deploying flow script from 'C:\\\\Users\\\\Anna V\\\\Documents\\\\GitHub\\\\mlops_zoomcam\n",
      "p\\\\homework\\\\week3\\\\homework_prefect_flow_q4.py' using Local Storage...\n",
      "Created deployment 'main/scheduled-deployment-q4'.\n",
      "View your new deployment with: \n",
      "\n",
      "    prefect deployment inspect 'main/scheduled-deployment-q4'\n",
      "Created 1 deployments!\n"
     ]
    },
    {
     "name": "stderr",
     "output_type": "stream",
     "text": [
      "C:\\ProgramData\\Anaconda3\\envs\\mlops\\lib\\site-packages\\prefect\\deployments.py:250: UserWarning: You have not configured default storage on the server or set a storage to use for this deployment, this deployment will only be usable from the current machine.\n",
      "  warnings.warn(f\"{no_storage_message}, {local_machine_message}\")\n"
     ]
    }
   ],
   "source": [
    "!prefect deployment create \"homework_prefect_flow_q4.py\""
   ]
  },
  {
   "cell_type": "code",
   "execution_count": null,
   "id": "8ddc7cc3-1154-4877-a4c9-a15c2469441d",
   "metadata": {},
   "outputs": [],
   "source": [
    "# !prefect orion start ##to view the UI"
   ]
  },
  {
   "cell_type": "markdown",
   "id": "c111b529-a809-413d-801f-31f0cab3faf8",
   "metadata": {},
   "source": [
    "**Answer**: "
   ]
  },
  {
   "cell_type": "markdown",
   "id": "1dc128c2-6d9f-4b81-acf5-317a5fc901ad",
   "metadata": {},
   "source": [
    "## Question 5"
   ]
  },
  {
   "cell_type": "markdown",
   "id": "9428c87d-9ecd-408e-bdea-b3ab51028384",
   "metadata": {},
   "source": [
    "**Answer**: Looking at the UI, there are four scheduled runs in the future. (Choosing the option for 3, because that was the closest integer). "
   ]
  },
  {
   "cell_type": "code",
   "execution_count": 9,
   "id": "b0eb279f-c538-4fa4-aeb7-0169b912c68e",
   "metadata": {},
   "outputs": [
    {
     "name": "stdout",
     "output_type": "stream",
     "text": [
      "                              Deployments                              \n",
      "+---------------------------------------------------------------------+\n",
      "| Name                         | ID                                   |\n",
      "|------------------------------+--------------------------------------|\n",
      "| main/scheduled-deployment-q4 | c1d803e3-cb97-4be5-bcbf-49d74088bca1 |\n",
      "+---------------------------------------------------------------------+\n"
     ]
    }
   ],
   "source": [
    "!prefect deployment ls"
   ]
  },
  {
   "cell_type": "code",
   "execution_count": 6,
   "id": "f880be41-5e08-4368-9cf9-7b45078cd9b0",
   "metadata": {},
   "outputs": [
    {
     "name": "stdout",
     "output_type": "stream",
     "text": [
      "{\n",
      "    'id': 'c1d803e3-cb97-4be5-bcbf-49d74088bca1',\n",
      "    'created': '2022-06-11T11:44:05.715130+00:00',\n",
      "    'updated': '2022-06-11T12:53:19.727607+00:00',\n",
      "    'name': 'scheduled-deployment-q4',\n",
      "    'flow_id': '6121e094-b3b0-4c3b-b8da-c634b67b7181',\n",
      "    'flow_data': {\n",
      "        'encoding': 'blockstorage',\n",
      "        'blob': '{\"data\": \"\\\\\"C:\\\\\\\\\\\\\\\\Users\\\\\\\\\\\\\\\\Anna V\\\\\\\\\\\\\\\\.prefect\\\\\\\\\n",
      "\\\\\\\\storage\\\\\\\\\\\\\\\\0d144912-b59d-4862-87f4-01d52ed6ddbf\\\\\"\", \n",
      "\"block_document_id\": \"316862cd-2126-48d8-bfdd-096fb88339cb\"}'\n",
      "    },\n",
      "    'schedule': {'cron': '0 9 15 * *', 'timezone': None, 'day_or': True},\n",
      "    'is_schedule_active': True,\n",
      "    'parameters': {},\n",
      "    'tags': [],\n",
      "    'flow_runner': {\n",
      "        'type': 'subprocess',\n",
      "        'config': {\n",
      "            'env': {},\n",
      "            'stream_output': True,\n",
      "            'condaenv': None,\n",
      "            'virtualenv': None\n",
      "        }\n",
      "    }\n",
      "}\n"
     ]
    }
   ],
   "source": [
    "!prefect deployment inspect \"main/scheduled-deployment-q4\""
   ]
  },
  {
   "cell_type": "markdown",
   "id": "7f48d04e-ae61-49ca-971b-9cb48fe93878",
   "metadata": {},
   "source": [
    "## Question 6 - For this exercise, create a work-queue from the UI and view it using the CLI."
   ]
  },
  {
   "cell_type": "markdown",
   "id": "48a2573d-8e39-4917-805c-b7e00c436951",
   "metadata": {},
   "source": [
    "**Answer**: `prefect work-queue ls` is the command to view the available work-queues."
   ]
  },
  {
   "cell_type": "code",
   "execution_count": 7,
   "id": "ea777458-b969-4251-88bc-2bc1945ea024",
   "metadata": {},
   "outputs": [
    {
     "name": "stdout",
     "output_type": "stream",
     "text": [
      "                                 Work Queues                                  \n",
      "+----------------------------------------------------------------------------+\n",
      "|                                   ID | Name            | Concurrency Limit |\n",
      "|--------------------------------------+-----------------+-------------------|\n",
      "| 9b1004c6-aabb-436e-acc3-2696f1b03b41 | week3_question6 | None              |\n",
      "+----------------------------------------------------------------------------+\n",
      "                         (**) denotes a paused queue                          \n"
     ]
    }
   ],
   "source": [
    "!prefect work-queue ls"
   ]
  },
  {
   "cell_type": "code",
   "execution_count": 8,
   "id": "407e0819-f024-44ec-8e15-fd4c37504e1e",
   "metadata": {},
   "outputs": [
    {
     "name": "stdout",
     "output_type": "stream",
     "text": [
      "+-----------------------------------------------------------------------------+\n",
      "| Scheduled St… | Run ID                  | Name    | Deployment ID           |\n",
      "|---------------+-------------------------+---------+-------------------------|\n",
      "| 2022-06-15 0… | d209fd77-8a47-4fab-8f1… | pastel… | c1d803e3-cb97-4be5-bcb… |\n",
      "| 2022-07-15 0… | fb11fc4e-c66f-4cf4-bad… | optimi… | c1d803e3-cb97-4be5-bcb… |\n",
      "| 2022-08-15 0… | dcfa0b96-8e2d-4448-8a8… | libera… | c1d803e3-cb97-4be5-bcb… |\n",
      "| 2022-09-15 0… | a8d94b3b-7112-4082-998… | ivory-… | c1d803e3-cb97-4be5-bcb… |\n",
      "+-----------------------------------------------------------------------------+\n",
      "                            (**) denotes a late run                            \n"
     ]
    }
   ],
   "source": [
    "!prefect work-queue preview \"9b1004c6-aabb-436e-acc3-2696f1b03b41\" --hours 8460"
   ]
  },
  {
   "cell_type": "code",
   "execution_count": null,
   "id": "05b0ed37-0acc-4ccf-ada1-d679cf17eae4",
   "metadata": {},
   "outputs": [],
   "source": []
  },
  {
   "cell_type": "code",
   "execution_count": null,
   "id": "b00a33e5-eeac-4074-af45-6270ad13d8be",
   "metadata": {},
   "outputs": [],
   "source": [
    "# !prefect orion database reset"
   ]
  }
 ],
 "metadata": {
  "kernelspec": {
   "display_name": "mlops",
   "language": "python",
   "name": "mlops"
  },
  "language_info": {
   "codemirror_mode": {
    "name": "ipython",
    "version": 3
   },
   "file_extension": ".py",
   "mimetype": "text/x-python",
   "name": "python",
   "nbconvert_exporter": "python",
   "pygments_lexer": "ipython3",
   "version": "3.9.12"
  }
 },
 "nbformat": 4,
 "nbformat_minor": 5
}
