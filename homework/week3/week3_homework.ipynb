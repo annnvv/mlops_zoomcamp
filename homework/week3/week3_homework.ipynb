{
 "cells": [
  {
   "cell_type": "markdown",
   "id": "047931cb-86be-4a07-9a5c-3e80a2706d8c",
   "metadata": {
    "tags": []
   },
   "source": [
    "## Homework #3\n",
    "**Author**: Anna Vasylytsya\n",
    "\n",
    "[Homework assignment prompt](https://github.com/DataTalksClub/mlops-zoomcamp/blob/main/03-orchestration/homework.md)"
   ]
  },
  {
   "cell_type": "markdown",
   "id": "114bbac3-1f92-4a2e-a2b2-07bf00b0e801",
   "metadata": {},
   "source": [
    "## Question 1"
   ]
  },
  {
   "cell_type": "code",
   "execution_count": 2,
   "id": "a230e83e-ed71-4b22-b658-86d5b6a0df12",
   "metadata": {},
   "outputs": [
    {
     "name": "stderr",
     "output_type": "stream",
     "text": [
      "04:09:40.369 | INFO    | prefect.engine - Created flow run 'carmine-marmot' for flow 'main'\n",
      "04:09:40.369 | INFO    | Flow run 'carmine-marmot' - Using task runner 'SequentialTaskRunner'\n",
      "04:09:40.384 | WARNING | Flow run 'carmine-marmot' - No default storage is configured on the server. Results from this flow run will be stored in a temporary directory in its runtime environment.\n",
      "04:09:40.494 | INFO    | Flow run 'carmine-marmot' - Created task run 'read_data-4c7f9de4-0' for task 'read_data'\n",
      "04:09:53.366 | INFO    | Task run 'read_data-4c7f9de4-0' - Finished in state Completed()\n",
      "04:09:53.464 | INFO    | Flow run 'carmine-marmot' - Created task run 'prepare_features-4ee39d9f-0' for task 'prepare_features'\n",
      "04:09:53.773 | INFO    | Task run 'prepare_features-4ee39d9f-0' - The mean duration of training is 16.2472533682457\n",
      "04:10:03.997 | INFO    | Task run 'prepare_features-4ee39d9f-0' - Finished in state Completed()\n",
      "04:10:04.091 | INFO    | Flow run 'carmine-marmot' - Created task run 'read_data-4c7f9de4-1' for task 'read_data'\n",
      "04:10:12.161 | INFO    | Task run 'read_data-4c7f9de4-1' - Finished in state Completed()\n",
      "04:10:12.243 | INFO    | Flow run 'carmine-marmot' - Created task run 'prepare_features-4ee39d9f-1' for task 'prepare_features'\n",
      "04:10:12.449 | INFO    | Task run 'prepare_features-4ee39d9f-1' - The mean duration of validation is 16.859265811074096\n",
      "04:10:20.276 | INFO    | Task run 'prepare_features-4ee39d9f-1' - Finished in state Completed()\n",
      "04:10:20.354 | INFO    | Flow run 'carmine-marmot' - Created task run 'train_model-7c866860-0' for task 'train_model'\n",
      "04:10:26.745 | INFO    | Task run 'train_model-7c866860-0' - The shape of X_train is (1109826, 525)\n",
      "04:10:26.745 | INFO    | Task run 'train_model-7c866860-0' - The DictVectorizer has 525 features\n",
      "04:10:43.274 | INFO    | Task run 'train_model-7c866860-0' - The MSE of training is: 10.528519107212437\n",
      "04:10:43.435 | INFO    | Task run 'train_model-7c866860-0' - Finished in state Completed()\n",
      "04:10:43.482 | INFO    | Flow run 'carmine-marmot' - Created task run 'run_model-6559300c-0' for task 'run_model'\n",
      "04:10:49.872 | INFO    | Task run 'run_model-6559300c-0' - The MSE of validation is: 11.014283205657666\n",
      "04:10:50.013 | INFO    | Task run 'run_model-6559300c-0' - Finished in state Completed()\n",
      "04:10:59.102 | INFO    | Flow run 'carmine-marmot' - Finished in state Completed('All states completed.')\n"
     ]
    }
   ],
   "source": [
    "!python homework_prefect_flow_q1.py"
   ]
  },
  {
   "cell_type": "markdown",
   "id": "ab025183-c9a8-4d8e-bed6-f52e173ebb62",
   "metadata": {},
   "source": [
    "**Answer**: `.values()` needs to be added to the `train_model` function that is called in the flow."
   ]
  },
  {
   "cell_type": "markdown",
   "id": "14ed9871-98d5-46bb-bcc6-bece7f8fd978",
   "metadata": {},
   "source": [
    "## Question 2"
   ]
  },
  {
   "cell_type": "code",
   "execution_count": 43,
   "id": "d2a91cdb-7b8d-4fdd-8dc9-f37262c42796",
   "metadata": {},
   "outputs": [
    {
     "name": "stderr",
     "output_type": "stream",
     "text": [
      "05:00:23.372 | INFO    | prefect.engine - Created flow run 'magic-narwhal' for flow 'main'\n",
      "05:00:23.372 | INFO    | Flow run 'magic-narwhal' - Using task runner 'SequentialTaskRunner'\n",
      "05:00:23.491 | WARNING | Flow run 'magic-narwhal' - No default storage is configured on the server. Results from this flow run will be stored in a temporary directory in its runtime environment.\n",
      "05:00:23.687 | INFO    | Flow run 'magic-narwhal' - Created task run 'get_paths-6e696e34-0' for task 'get_paths'\n",
      "05:00:23.786 | INFO    | Task run 'get_paths-6e696e34-0' - Train date is 2021-06\n",
      "05:00:23.787 | INFO    | Task run 'get_paths-6e696e34-0' - Val date is 2021-07\n",
      "05:00:23.787 | INFO    | Task run 'get_paths-6e696e34-0' - Train path is https://nyc-tlc.s3.amazonaws.com/trip+data/fhv_tripdata_2021-06.parquet\n",
      "05:00:23.788 | INFO    | Task run 'get_paths-6e696e34-0' - Val path is https://nyc-tlc.s3.amazonaws.com/trip+data/fhv_tripdata_2021-07.parquet\n",
      "05:00:23.860 | INFO    | Task run 'get_paths-6e696e34-0' - Finished in state Completed()\n",
      "05:00:23.924 | INFO    | Flow run 'magic-narwhal' - Created task run 'read_data-4c7f9de4-0' for task 'read_data'\n",
      "05:00:47.203 | INFO    | Task run 'read_data-4c7f9de4-0' - Finished in state Completed()\n",
      "05:00:47.278 | INFO    | Flow run 'magic-narwhal' - Created task run 'prepare_features-4ee39d9f-0' for task 'prepare_features'\n",
      "05:00:47.513 | INFO    | Task run 'prepare_features-4ee39d9f-0' - The mean duration of training is 18.230538791569113\n",
      "05:00:57.236 | INFO    | Task run 'prepare_features-4ee39d9f-0' - Finished in state Completed()\n",
      "05:00:57.296 | INFO    | Flow run 'magic-narwhal' - Created task run 'read_data-4c7f9de4-1' for task 'read_data'\n",
      "05:01:05.283 | INFO    | Task run 'read_data-4c7f9de4-1' - Finished in state Completed()\n",
      "05:01:05.457 | INFO    | Flow run 'magic-narwhal' - Created task run 'prepare_features-4ee39d9f-1' for task 'prepare_features'\n",
      "05:01:05.714 | INFO    | Task run 'prepare_features-4ee39d9f-1' - The mean duration of validation is 17.91113046137945\n",
      "05:01:14.295 | INFO    | Task run 'prepare_features-4ee39d9f-1' - Finished in state Completed()\n",
      "05:01:14.358 | INFO    | Flow run 'magic-narwhal' - Created task run 'train_model-7c866860-0' for task 'train_model'\n",
      "05:01:22.574 | INFO    | Task run 'train_model-7c866860-0' - The shape of X_train is (1222031, 525)\n",
      "05:01:22.574 | INFO    | Task run 'train_model-7c866860-0' - The DictVectorizer has 525 features\n",
      "05:01:39.621 | INFO    | Task run 'train_model-7c866860-0' - The MSE of training is: 11.789352609207045\n",
      "05:01:39.839 | INFO    | Task run 'train_model-7c866860-0' - Finished in state Completed()\n",
      "05:01:39.886 | INFO    | Flow run 'magic-narwhal' - Created task run 'run_model-6559300c-0' for task 'run_model'\n",
      "05:01:47.339 | INFO    | Task run 'run_model-6559300c-0' - The MSE of validation is: 11.63703256712469\n",
      "05:01:47.493 | INFO    | Task run 'run_model-6559300c-0' - Finished in state Completed()\n",
      "05:02:00.859 | INFO    | Flow run 'magic-narwhal' - Finished in state Completed('All states completed.')\n"
     ]
    }
   ],
   "source": [
    "!python homework_prefect_flow_q2.py"
   ]
  },
  {
   "cell_type": "markdown",
   "id": "771a3a96-b9af-4dd4-b24b-0822d4c4a043",
   "metadata": {},
   "source": [
    "**Answer**: The validation MSE is `11.637`."
   ]
  },
  {
   "cell_type": "markdown",
   "id": "f78e8be9-fafc-4443-b5a9-9c7b73393cc4",
   "metadata": {},
   "source": [
    "## Question 3"
   ]
  },
  {
   "cell_type": "code",
   "execution_count": 45,
   "id": "287e1c56-63ee-45d3-a962-25efb866cb2c",
   "metadata": {},
   "outputs": [
    {
     "name": "stderr",
     "output_type": "stream",
     "text": [
      "05:31:25.569 | INFO    | prefect.engine - Created flow run 'imperial-loon' for flow 'main'\n",
      "05:31:25.569 | INFO    | Flow run 'imperial-loon' - Using task runner 'SequentialTaskRunner'\n",
      "05:31:25.601 | WARNING | Flow run 'imperial-loon' - No default storage is configured on the server. Results from this flow run will be stored in a temporary directory in its runtime environment.\n",
      "05:31:25.679 | INFO    | Flow run 'imperial-loon' - Created task run 'get_paths-6e696e34-0' for task 'get_paths'\n",
      "05:31:25.726 | INFO    | Task run 'get_paths-6e696e34-0' - Train path is https://nyc-tlc.s3.amazonaws.com/trip+data/fhv_tripdata_2021-06.parquet\n",
      "05:31:25.726 | INFO    | Task run 'get_paths-6e696e34-0' - Val path is https://nyc-tlc.s3.amazonaws.com/trip+data/fhv_tripdata_2021-07.parquet\n",
      "05:31:25.757 | INFO    | Task run 'get_paths-6e696e34-0' - Finished in state Completed()\n",
      "05:31:25.804 | INFO    | Flow run 'imperial-loon' - Created task run 'read_data-4c7f9de4-0' for task 'read_data'\n",
      "05:31:37.527 | INFO    | Task run 'read_data-4c7f9de4-0' - Finished in state Completed()\n",
      "05:31:37.590 | INFO    | Flow run 'imperial-loon' - Created task run 'prepare_features-4ee39d9f-0' for task 'prepare_features'\n",
      "05:31:37.777 | INFO    | Task run 'prepare_features-4ee39d9f-0' - The mean duration of training is 18.230538791569113\n",
      "05:31:45.418 | INFO    | Task run 'prepare_features-4ee39d9f-0' - Finished in state Completed()\n",
      "05:31:45.512 | INFO    | Flow run 'imperial-loon' - Created task run 'read_data-4c7f9de4-1' for task 'read_data'\n",
      "05:31:53.179 | INFO    | Task run 'read_data-4c7f9de4-1' - Finished in state Completed()\n",
      "05:31:53.226 | INFO    | Flow run 'imperial-loon' - Created task run 'prepare_features-4ee39d9f-1' for task 'prepare_features'\n",
      "05:31:53.444 | INFO    | Task run 'prepare_features-4ee39d9f-1' - The mean duration of validation is 17.91113046137945\n",
      "05:32:01.788 | INFO    | Task run 'prepare_features-4ee39d9f-1' - Finished in state Completed()\n",
      "05:32:01.866 | INFO    | Flow run 'imperial-loon' - Created task run 'train_model-7c866860-0' for task 'train_model'\n",
      "05:32:08.734 | INFO    | Task run 'train_model-7c866860-0' - The shape of X_train is (1222031, 525)\n",
      "05:32:08.734 | INFO    | Task run 'train_model-7c866860-0' - The DictVectorizer has 525 features\n",
      "05:32:24.689 | INFO    | Task run 'train_model-7c866860-0' - The MSE of training is: 11.789352609207045\n",
      "05:32:24.893 | INFO    | Task run 'train_model-7c866860-0' - Finished in state Completed()\n",
      "05:32:24.955 | INFO    | Flow run 'imperial-loon' - Created task run 'run_model-6559300c-0' for task 'run_model'\n",
      "05:32:32.116 | INFO    | Task run 'run_model-6559300c-0' - The MSE of validation is: 11.63703256712469\n",
      "05:32:32.304 | INFO    | Task run 'run_model-6559300c-0' - Finished in state Completed()\n",
      "05:32:41.913 | INFO    | Flow run 'imperial-loon' - Finished in state Completed('All states completed.')\n"
     ]
    }
   ],
   "source": [
    "!python homework_prefect_flow_q3.py"
   ]
  },
  {
   "cell_type": "code",
   "execution_count": 68,
   "id": "b83fc945-4db6-4c99-ace4-6c1905c7f77d",
   "metadata": {},
   "outputs": [
    {
     "name": "stdout",
     "output_type": "stream",
     "text": [
      "06/11/2022  05:32 AM            13,191 dv-2021-08-15.b\n"
     ]
    }
   ],
   "source": [
    "!dir \"artifacts\\dv-*\" /s/a:-d|find \"/\""
   ]
  },
  {
   "cell_type": "markdown",
   "id": "85391987-24e1-4520-b453-86dd543e524a",
   "metadata": {},
   "source": [
    "**Answer**: about `13,000 bytes`"
   ]
  },
  {
   "cell_type": "markdown",
   "id": "96ebff3a-cb65-40e0-b8fd-ae55cc097753",
   "metadata": {},
   "source": [
    "## Question 4 - Creating a deployment with a CronSchedule"
   ]
  },
  {
   "cell_type": "markdown",
   "id": "e5e33084-ef6b-4264-9d23-5afdbe67cd7e",
   "metadata": {},
   "source": [
    "Question: What is the Cron expression to run a flow at 9 AM every 15th of the month?\n",
    "\n",
    "Minute (0-59), Hour (0-23), Day of Month (1-31), Month (1-12), Day of Week (0-6=Sunday-Saturday)\n",
    "\n",
    "**Answer**: `0 9 15 * *`"
   ]
  },
  {
   "cell_type": "code",
   "execution_count": 75,
   "id": "cc3d616b-0501-4668-a950-e145e8ed6073",
   "metadata": {},
   "outputs": [
    {
     "name": "stdout",
     "output_type": "stream",
     "text": [
      "Loading deployment specifications from python script at \n",
      "'homework_prefect_flow_q4.py'...\n",
      "Script at 'homework_prefect_flow_q4.py' encountered an exception\n",
      "Traceback (most recent call last):\n",
      "  File \"C:\\Users\\Anna \n",
      "V\\Documents\\GitHub\\mlops_zoomcamp\\homework\\week3\\homework_prefect_flow_q4.py\", \n",
      "line 122, in <module>\n",
      "    DeploymentSpec(\n",
      "  File \n",
      "\"C:\\ProgramData\\Anaconda3\\envs\\mlops\\lib\\site-packages\\prefect\\deployments.py\",\n",
      "line 133, in __init__\n",
      "    super().__init__(**data)\n",
      "  File \"pydantic\\main.py\", line 341, in pydantic.main.BaseModel.__init__\n",
      "pydantic.error_wrappers.ValidationError: 1 validation error for DeploymentSpec\n",
      "flow_location\n",
      "  str type expected (type=type_error.str)\n",
      "\n",
      "Failed to load specifications from 'homework_prefect_flow_q4.py'\n"
     ]
    }
   ],
   "source": [
    "!prefect deployment create \"homework_prefect_flow_q4.py\""
   ]
  },
  {
   "cell_type": "code",
   "execution_count": 77,
   "id": "8ddc7cc3-1154-4877-a4c9-a15c2469441d",
   "metadata": {},
   "outputs": [],
   "source": [
    "# !prefect orion start ##to view the UI"
   ]
  },
  {
   "cell_type": "markdown",
   "id": "1dc128c2-6d9f-4b81-acf5-317a5fc901ad",
   "metadata": {},
   "source": [
    "## Question 5"
   ]
  },
  {
   "cell_type": "code",
   "execution_count": 84,
   "id": "35d45648-3078-44a0-869a-89e1251abe80",
   "metadata": {},
   "outputs": [
    {
     "data": {
      "text/plain": [
       "<function prefect.orion.api.deployments.count_deployments(flows: prefect.orion.schemas.filters.FlowFilter = None, flow_runs: prefect.orion.schemas.filters.FlowRunFilter = None, task_runs: prefect.orion.schemas.filters.TaskRunFilter = None, deployments: prefect.orion.schemas.filters.DeploymentFilter = None, session: sqlalchemy.orm.session.Session = Depends(get_session)) -> int>"
      ]
     },
     "execution_count": 84,
     "metadata": {},
     "output_type": "execute_result"
    }
   ],
   "source": [
    "# https://orion-docs.prefect.io/api-ref/orion/api/deployments/#prefect.orion.api.deployments.count_deployments\n",
    "from prefect.orion.api import deployments\n",
    "deployments.count_deployments"
   ]
  },
  {
   "cell_type": "code",
   "execution_count": null,
   "id": "b0eb279f-c538-4fa4-aeb7-0169b912c68e",
   "metadata": {},
   "outputs": [],
   "source": [
    "!prefect work-queue preview 'queue_id' --hours 24*360 "
   ]
  },
  {
   "cell_type": "code",
   "execution_count": null,
   "id": "f880be41-5e08-4368-9cf9-7b45078cd9b0",
   "metadata": {},
   "outputs": [],
   "source": []
  },
  {
   "cell_type": "markdown",
   "id": "7f48d04e-ae61-49ca-971b-9cb48fe93878",
   "metadata": {},
   "source": [
    "## Question 6"
   ]
  },
  {
   "cell_type": "code",
   "execution_count": null,
   "id": "5ceeb6fe-bab0-4067-9c16-e67bbd9a7b37",
   "metadata": {},
   "outputs": [],
   "source": []
  },
  {
   "cell_type": "code",
   "execution_count": null,
   "id": "97061095-27a9-4543-8bba-5244b84c6961",
   "metadata": {},
   "outputs": [],
   "source": []
  },
  {
   "cell_type": "code",
   "execution_count": null,
   "id": "407e0819-f024-44ec-8e15-fd4c37504e1e",
   "metadata": {},
   "outputs": [],
   "source": []
  },
  {
   "cell_type": "code",
   "execution_count": null,
   "id": "b00a33e5-eeac-4074-af45-6270ad13d8be",
   "metadata": {},
   "outputs": [],
   "source": [
    "# !prefect orion database reset"
   ]
  },
  {
   "cell_type": "code",
   "execution_count": null,
   "id": "60eb5e92-5fc6-4c3a-adac-63acc72d7a56",
   "metadata": {},
   "outputs": [],
   "source": [
    "#https://www.linkedin.com/posts/annavasylytsya_mlopszoomcamp-mlops-orchestration-activity-6941346409010917376-1gC8"
   ]
  }
 ],
 "metadata": {
  "kernelspec": {
   "display_name": "mlops",
   "language": "python",
   "name": "mlops"
  },
  "language_info": {
   "codemirror_mode": {
    "name": "ipython",
    "version": 3
   },
   "file_extension": ".py",
   "mimetype": "text/x-python",
   "name": "python",
   "nbconvert_exporter": "python",
   "pygments_lexer": "ipython3",
   "version": "3.9.12"
  }
 },
 "nbformat": 4,
 "nbformat_minor": 5
}
