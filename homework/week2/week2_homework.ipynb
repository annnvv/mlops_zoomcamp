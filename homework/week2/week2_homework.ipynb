{
 "cells": [
  {
   "cell_type": "markdown",
   "id": "f2a39dd2-859d-466b-a05c-6325d53e4328",
   "metadata": {},
   "source": [
    "## Homework #2\n",
    "**Author**: Anna Vasylytsya\n",
    "\n",
    "[Homework assignment prompt](https://github.com/DataTalksClub/mlops-zoomcamp/blob/main/02-experiment-tracking/homework.md)"
   ]
  },
  {
   "cell_type": "code",
   "execution_count": 1,
   "id": "c5234e52-a929-4165-be61-6b0130e512af",
   "metadata": {},
   "outputs": [],
   "source": [
    "import mlflow"
   ]
  },
  {
   "cell_type": "markdown",
   "id": "c1e03b70-8593-4a7d-8843-3de8950c95ea",
   "metadata": {},
   "source": [
    "## Question 1"
   ]
  },
  {
   "cell_type": "code",
   "execution_count": 2,
   "id": "90531b28-1ecc-4a57-b8ba-f44c4052e947",
   "metadata": {},
   "outputs": [
    {
     "name": "stdout",
     "output_type": "stream",
     "text": [
      "mlflow, version 1.26.0\n"
     ]
    }
   ],
   "source": [
    "! mlflow --version"
   ]
  },
  {
   "cell_type": "code",
   "execution_count": 3,
   "id": "dffcac0c-a0ed-4fab-8cc1-f707104969d2",
   "metadata": {},
   "outputs": [],
   "source": [
    "## av.note: alternative way of getting the version\n",
    "# mlflow.__version__"
   ]
  },
  {
   "cell_type": "markdown",
   "id": "863a7318-62d6-4feb-8969-f2811a1609ab",
   "metadata": {},
   "source": [
    "## Question 2"
   ]
  },
  {
   "cell_type": "code",
   "execution_count": 4,
   "id": "ce1d261d-bff4-4029-9d4c-9a8d032f19cb",
   "metadata": {},
   "outputs": [],
   "source": [
    "## modified preprocess.py to pull directly from website using pandas.read_parquet(url)"
   ]
  },
  {
   "cell_type": "code",
   "execution_count": 5,
   "id": "a771830c-45b7-48b6-b168-e5adc904a0cf",
   "metadata": {},
   "outputs": [],
   "source": [
    "!python preprocess.py --dest_path output"
   ]
  },
  {
   "cell_type": "code",
   "execution_count": 6,
   "id": "ec314b2c-296b-46f7-b7cd-38ab5f7d076d",
   "metadata": {},
   "outputs": [
    {
     "name": "stdout",
     "output_type": "stream",
     "text": [
      "dv.pkl\n",
      "test.pkl\n",
      "train.pkl\n",
      "valid.pkl\n"
     ]
    }
   ],
   "source": [
    "!dir \"output\" /b"
   ]
  },
  {
   "cell_type": "markdown",
   "id": "0c380ec1-21a5-41f3-93c0-9132b4100e13",
   "metadata": {},
   "source": [
    "**Answer**: There are four files in the output directory. "
   ]
  },
  {
   "cell_type": "markdown",
   "id": "167890bb-7535-4881-9eeb-d886857c5938",
   "metadata": {},
   "source": [
    "## Question 3"
   ]
  },
  {
   "cell_type": "code",
   "execution_count": 7,
   "id": "03dbd081-c330-4732-af1f-57fef88072f5",
   "metadata": {},
   "outputs": [
    {
     "name": "stderr",
     "output_type": "stream",
     "text": [
      "2022/05/30 03:00:08 WARNING mlflow.utils.autologging_utils: MLflow autologging encountered a warning: \"C:\\ProgramData\\Anaconda3\\envs\\mlops\\lib\\site-packages\\_distutils_hack\\__init__.py:30: UserWarning: Setuptools is replacing distutils.\"\n"
     ]
    }
   ],
   "source": [
    "!python train.py --data_path output"
   ]
  },
  {
   "cell_type": "code",
   "execution_count": 8,
   "id": "fe603fd1-aba6-4391-adaa-33681b3cc77d",
   "metadata": {},
   "outputs": [],
   "source": [
    "client = mlflow.tracking.MlflowClient(tracking_uri = 'sqlite:///mlflow.db')\n",
    "experiment = client.get_experiment_by_name('nyc-taxi-experiment-hw2')\n",
    "runs = client.search_runs(1)"
   ]
  },
  {
   "cell_type": "markdown",
   "id": "f1b9ee84-c40d-4e61-a4ee-63cb844fe192",
   "metadata": {},
   "source": [
    "**Answer**:"
   ]
  },
  {
   "cell_type": "code",
   "execution_count": 9,
   "id": "0e229663-f0a3-4ef0-8b0c-d8dd33a19205",
   "metadata": {},
   "outputs": [
    {
     "name": "stdout",
     "output_type": "stream",
     "text": [
      "There are  17  parameters logged.\n"
     ]
    }
   ],
   "source": [
    "print('There are ', len(runs[0].data.params), ' parameters logged.')"
   ]
  },
  {
   "cell_type": "markdown",
   "id": "4adcf4b0-6da9-4f27-9a8d-b3f56facb88c",
   "metadata": {},
   "source": [
    "## Question 4. Launch the tracking server locally"
   ]
  },
  {
   "cell_type": "markdown",
   "id": "44b6a51d-12a3-41f2-957c-ac2704eca863",
   "metadata": {},
   "source": [
    "Ran this in command line: \n",
    "\n",
    "mlflow server --backend-store-uri \"sqlite:///mlflow.db\" --default-artifact-root \"./artifacts\""
   ]
  },
  {
   "cell_type": "markdown",
   "id": "b51e132d-5e82-40f5-bf40-7e1327907f8d",
   "metadata": {},
   "source": [
    "**Answer**: `--default-artifact-root` is required. The other three choices are optional. [Source](https://www.mlflow.org/docs/latest/cli.html#mlflow-server)"
   ]
  },
  {
   "cell_type": "markdown",
   "id": "ceca0b13-f278-4cf6-902c-5d5c6d3d8119",
   "metadata": {},
   "source": [
    "## Question 5. Tune the hyperparameters of the model\n",
    "\n",
    "Your task is to modify the script hpo.py and make sure that the validation RMSE is logged to MLflow for each run of the hyperparameter optimization (you will need to add a few lines of code to the objective function) and run the script without passing any parameters."
   ]
  },
  {
   "cell_type": "code",
   "execution_count": 10,
   "id": "2272721f-1424-4466-8259-33108107487f",
   "metadata": {},
   "outputs": [
    {
     "name": "stdout",
     "output_type": "stream",
     "text": [
      "\n",
      "  0%|          | 0/50 [00:00<?, ?trial/s, best loss=?]\n",
      "  2%|2         | 1/50 [00:16<13:11, 16.15s/trial, best loss: 6.658956269343007]\n",
      "  4%|4         | 2/50 [00:16<05:39,  7.07s/trial, best loss: 6.658956269343007]\n",
      "  6%|6         | 3/50 [00:17<03:23,  4.32s/trial, best loss: 6.658956269343007]\n",
      "  8%|8         | 4/50 [00:28<05:17,  6.91s/trial, best loss: 6.651438559376775]\n",
      " 10%|#         | 5/50 [00:33<04:35,  6.11s/trial, best loss: 6.651438559376775]\n",
      " 12%|#2        | 6/50 [00:50<07:11,  9.82s/trial, best loss: 6.651438559376775]\n",
      " 14%|#4        | 7/50 [01:07<08:41, 12.13s/trial, best loss: 6.651438559376775]\n",
      " 16%|#6        | 8/50 [01:09<06:13,  8.89s/trial, best loss: 6.651438559376775]\n",
      " 18%|#8        | 9/50 [01:19<06:24,  9.37s/trial, best loss: 6.651438559376775]\n",
      " 20%|##        | 10/50 [01:29<06:20,  9.52s/trial, best loss: 6.651438559376775]\n",
      " 22%|##2       | 11/50 [01:36<05:36,  8.62s/trial, best loss: 6.642137287429206]\n",
      " 24%|##4       | 12/50 [01:41<04:46,  7.53s/trial, best loss: 6.642137287429206]\n",
      " 26%|##6       | 13/50 [01:43<03:35,  5.83s/trial, best loss: 6.642137287429206]\n",
      " 28%|##8       | 14/50 [01:49<03:34,  5.95s/trial, best loss: 6.642137287429206]\n",
      " 30%|###       | 15/50 [01:59<04:10,  7.16s/trial, best loss: 6.642137287429206]\n",
      " 32%|###2      | 16/50 [02:04<03:47,  6.69s/trial, best loss: 6.642137287429206]\n",
      " 34%|###4      | 17/50 [02:14<04:11,  7.62s/trial, best loss: 6.642137287429206]\n",
      " 36%|###6      | 18/50 [02:33<05:46, 10.82s/trial, best loss: 6.629728007710133]\n",
      " 38%|###8      | 19/50 [02:37<04:40,  9.04s/trial, best loss: 6.629728007710133]\n",
      " 40%|####      | 20/50 [02:40<03:32,  7.09s/trial, best loss: 6.629728007710133]\n",
      " 42%|####2     | 21/50 [03:02<05:40, 11.73s/trial, best loss: 6.629728007710133]\n",
      " 44%|####4     | 22/50 [03:19<06:06, 13.10s/trial, best loss: 6.629728007710133]\n",
      " 46%|####6     | 23/50 [03:45<07:39, 17.01s/trial, best loss: 6.629728007710133]\n",
      " 48%|####8     | 24/50 [04:08<08:09, 18.83s/trial, best loss: 6.629728007710133]\n",
      " 50%|#####     | 25/50 [04:24<07:26, 17.85s/trial, best loss: 6.629728007710133]\n",
      " 52%|#####2    | 26/50 [04:40<06:57, 17.39s/trial, best loss: 6.629728007710133]\n",
      " 54%|#####4    | 27/50 [04:48<05:34, 14.55s/trial, best loss: 6.629728007710133]\n",
      " 56%|#####6    | 28/50 [05:06<05:46, 15.73s/trial, best loss: 6.629728007710133]\n",
      " 58%|#####8    | 29/50 [05:12<04:28, 12.78s/trial, best loss: 6.629728007710133]\n",
      " 60%|######    | 30/50 [05:30<04:44, 14.22s/trial, best loss: 6.629728007710133]\n",
      " 62%|######2   | 31/50 [05:31<03:13, 10.20s/trial, best loss: 6.629728007710133]\n",
      " 64%|######4   | 32/50 [05:41<03:05, 10.32s/trial, best loss: 6.629728007710133]\n",
      " 66%|######6   | 33/50 [06:00<03:37, 12.79s/trial, best loss: 6.629728007710133]\n",
      " 68%|######8   | 34/50 [06:17<03:46, 14.17s/trial, best loss: 6.6284257482044735]\n",
      " 70%|#######   | 35/50 [06:27<03:14, 12.99s/trial, best loss: 6.6284257482044735]\n",
      " 72%|#######2  | 36/50 [06:37<02:49, 12.08s/trial, best loss: 6.6284257482044735]\n",
      " 74%|#######4  | 37/50 [06:38<01:51,  8.56s/trial, best loss: 6.6284257482044735]\n",
      " 76%|#######6  | 38/50 [06:49<01:52,  9.40s/trial, best loss: 6.6284257482044735]\n",
      " 78%|#######8  | 39/50 [07:05<02:06, 11.50s/trial, best loss: 6.6284257482044735]\n",
      " 80%|########  | 40/50 [07:22<02:11, 13.17s/trial, best loss: 6.6284257482044735]\n",
      " 82%|########2 | 41/50 [07:25<01:30, 10.02s/trial, best loss: 6.6284257482044735]\n",
      " 84%|########4 | 42/50 [07:31<01:11,  8.90s/trial, best loss: 6.6284257482044735]\n",
      " 86%|########6 | 43/50 [07:43<01:08,  9.84s/trial, best loss: 6.6284257482044735]\n",
      " 88%|########8 | 44/50 [07:57<01:04, 10.83s/trial, best loss: 6.6284257482044735]\n",
      " 90%|######### | 45/50 [08:03<00:46,  9.36s/trial, best loss: 6.6284257482044735]\n",
      " 92%|#########2| 46/50 [08:04<00:28,  7.13s/trial, best loss: 6.6284257482044735]\n",
      " 94%|#########3| 47/50 [08:14<00:23,  8.00s/trial, best loss: 6.6284257482044735]\n",
      " 96%|#########6| 48/50 [08:19<00:13,  6.99s/trial, best loss: 6.6284257482044735]\n",
      " 98%|#########8| 49/50 [08:28<00:07,  7.60s/trial, best loss: 6.6284257482044735]\n",
      "100%|##########| 50/50 [08:40<00:00,  8.83s/trial, best loss: 6.6284257482044735]\n",
      "100%|##########| 50/50 [08:40<00:00, 10.41s/trial, best loss: 6.6284257482044735]\n"
     ]
    }
   ],
   "source": [
    "!python hpo.py"
   ]
  },
  {
   "cell_type": "code",
   "execution_count": 11,
   "id": "45c72a5a-dd0b-4194-b545-bdf48c6a33c8",
   "metadata": {},
   "outputs": [],
   "source": [
    "best_run = client.search_runs(\n",
    "  experiment_ids = 2, \n",
    "  run_view_type= mlflow.entities.ViewType.ACTIVE_ONLY,\n",
    "  max_results=1,\n",
    "  order_by=[\"metrics.rmse ASC\"]\n",
    ")[0]\n",
    "# best_run"
   ]
  },
  {
   "cell_type": "markdown",
   "id": "53cd7002-6416-49a0-8028-240299a3a011",
   "metadata": {},
   "source": [
    "**Answer**:"
   ]
  },
  {
   "cell_type": "code",
   "execution_count": 12,
   "id": "5f15181b-b0e8-4578-b73e-70268e061f2a",
   "metadata": {},
   "outputs": [
    {
     "name": "stdout",
     "output_type": "stream",
     "text": [
      "The best validation rmse is : 6.628\n"
     ]
    }
   ],
   "source": [
    "print('The best validation rmse is :', round(best_run.data.metrics['rmse'], 3))"
   ]
  },
  {
   "cell_type": "code",
   "execution_count": null,
   "id": "f398c760-ee46-491e-8e02-9384b6263fe4",
   "metadata": {},
   "outputs": [],
   "source": []
  },
  {
   "cell_type": "markdown",
   "id": "1207fabc-3884-4ad7-b760-2c2b6ee37f0a",
   "metadata": {},
   "source": [
    "av.note to self: the tracking server actually captures the script that the model was run from in the source column!"
   ]
  },
  {
   "cell_type": "markdown",
   "id": "0ccc95c5-4100-4f0e-a962-c35d1efbebcd",
   "metadata": {},
   "source": [
    "## Question 6. Promote the best model to the model registry"
   ]
  },
  {
   "cell_type": "code",
   "execution_count": 15,
   "id": "07402ef8-5782-429f-8d2c-5e7fbd62121d",
   "metadata": {},
   "outputs": [
    {
     "name": "stderr",
     "output_type": "stream",
     "text": [
      "Registered model 'Best_RandomForestRegressor_BasedOn_202103_testdata' already exists. Creating a new version of this model...\n",
      "2022/05/30 03:12:27 INFO mlflow.tracking._model_registry.client: Waiting up to 300 seconds for model version to finish creation.                     Model name: Best_RandomForestRegressor_BasedOn_202103_testdata, version 3\n",
      "Created version '3' of model 'Best_RandomForestRegressor_BasedOn_202103_testdata'.\n"
     ]
    }
   ],
   "source": [
    "!python register_model.py"
   ]
  },
  {
   "cell_type": "code",
   "execution_count": 27,
   "id": "79d15339-7e27-405d-813b-27d02f0f7488",
   "metadata": {},
   "outputs": [
    {
     "data": {
      "text/plain": [
       "6.547886185595423"
      ]
     },
     "execution_count": 27,
     "metadata": {},
     "output_type": "execute_result"
    }
   ],
   "source": [
    "best_run_test = client.search_runs(\n",
    "  experiment_ids = 3, \n",
    "  run_view_type= mlflow.entities.ViewType.ACTIVE_ONLY,\n",
    "  max_results=1,\n",
    "  order_by=[\"metrics.test_rmse ASC\"]\n",
    ")[0]\n",
    "\n",
    "best_run_test.data.metrics['test_rmse']"
   ]
  },
  {
   "cell_type": "code",
   "execution_count": 36,
   "id": "a1f96de0-7b6d-42b0-b575-92c1cb67cc6f",
   "metadata": {},
   "outputs": [],
   "source": [
    "# best_run_test.info.run_id"
   ]
  },
  {
   "cell_type": "code",
   "execution_count": 35,
   "id": "5e6b0878-9d18-415c-9819-1c86db7c2dad",
   "metadata": {},
   "outputs": [],
   "source": [
    "# model = client.get_registered_model('Best_RandomForestRegressor_BasedOn_202103_testdata')"
   ]
  },
  {
   "cell_type": "code",
   "execution_count": null,
   "id": "a17d506f-1476-4808-948a-2eb09302199f",
   "metadata": {},
   "outputs": [],
   "source": []
  }
 ],
 "metadata": {
  "kernelspec": {
   "display_name": "mlops",
   "language": "python",
   "name": "mlops"
  },
  "language_info": {
   "codemirror_mode": {
    "name": "ipython",
    "version": 3
   },
   "file_extension": ".py",
   "mimetype": "text/x-python",
   "name": "python",
   "nbconvert_exporter": "python",
   "pygments_lexer": "ipython3",
   "version": "3.9.12"
  }
 },
 "nbformat": 4,
 "nbformat_minor": 5
}
